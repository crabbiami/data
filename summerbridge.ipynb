{
 "cells": [
  {
   "cell_type": "code",
   "execution_count": null,
   "id": "3b209dbf-8cf9-4b99-9283-849c3e6c43a4",
   "metadata": {},
   "outputs": [],
   "source": [
    "3 + 7 "
   ]
  },
  {
   "cell_type": "code",
   "execution_count": null,
   "id": "5102820d-35fe-481b-bc93-6c768987bc5e",
   "metadata": {},
   "outputs": [],
   "source": [
    "print(\"hello\")"
   ]
  },
  {
   "cell_type": "code",
   "execution_count": null,
   "id": "9b86f30f-8000-4f99-9d79-b863c1f677b7",
   "metadata": {},
   "outputs": [],
   "source": [
    "name = \"Aminah\"\n",
    "age = 42"
   ]
  },
  {
   "cell_type": "code",
   "execution_count": null,
   "id": "4842790b-c962-4475-9d4c-3d676da234a8",
   "metadata": {},
   "outputs": [],
   "source": [
    "print(age)"
   ]
  },
  {
   "cell_type": "code",
   "execution_count": null,
   "id": "98876866-370a-4592-89ac-b8516b5c3100",
   "metadata": {},
   "outputs": [],
   "source": [
    "# This is a comment. It will not run.\n",
    "#you can echo values without using print in this notebook.\n",
    "name"
   ]
  },
  {
   "cell_type": "markdown",
   "id": "15c2a657-a3fd-44e5-aef3-75205346f646",
   "metadata": {},
   "source": [
    "# Variables and values"
   ]
  },
  {
   "cell_type": "code",
   "execution_count": null,
   "id": "8c937606-1276-42b1-8164-5d85b3eecb4d",
   "metadata": {},
   "outputs": [],
   "source": [
    "#variables can be used in calculations\n",
    "print(age)\n",
    "age = age + 3\n",
    "print (age)"
   ]
  },
  {
   "cell_type": "code",
   "execution_count": null,
   "id": "cc5f0229-3485-4ee9-a951-a6ca98f6a065",
   "metadata": {},
   "outputs": [],
   "source": [
    "#Order of operations matters!\n",
    "first = 1 \n",
    "second = first * 5\n",
    "first = 2\n",
    "print(first)\n",
    "print(second)"
   ]
  },
  {
   "cell_type": "code",
   "execution_count": null,
   "id": "16d3b4bd-4be8-4d2e-b54c-990a1ace4458",
   "metadata": {},
   "outputs": [],
   "source": [
    "#values have types. types affect what you can do with them.\n",
    "print(5-3)\n",
    "#print(\"hello\"-\"h\")"
   ]
  },
  {
   "cell_type": "code",
   "execution_count": null,
   "id": "06a61383-8ec9-40fc-aa79-ab3dfbf05eae",
   "metadata": {},
   "outputs": [],
   "source": [
    "print(len(\"hello\"))\n",
    "#print(len(6))"
   ]
  },
  {
   "cell_type": "markdown",
   "id": "4055c01f-49b9-4b69-bc61-82711cbb73e0",
   "metadata": {},
   "source": [
    "## Challenge\n",
    "Explain what each operator does\n",
    "\n",
    "print(5//3)\n",
    "\n",
    "print (5/3) \n",
    "\n",
    "print (5%3)"
   ]
  },
  {
   "cell_type": "code",
   "execution_count": null,
   "id": "efc04b78-5d89-491c-a601-3e0e117b64ad",
   "metadata": {},
   "outputs": [],
   "source": [
    "#Integer division\n",
    "print(5//3)\n",
    "\n",
    "#Regular division\n",
    "print (5/3)\n",
    "\n",
    "#Remainder (complement of the 1st one) \n",
    "#useful if trying to count things\n",
    "print (5%3)"
   ]
  },
  {
   "cell_type": "markdown",
   "id": "318e5c98-f6fb-4ca6-847d-2db667a0de84",
   "metadata": {},
   "source": [
    "# Getting help"
   ]
  },
  {
   "cell_type": "code",
   "execution_count": null,
   "id": "ab7cc52c-fe50-4c92-ba2c-8fd86ba9644a",
   "metadata": {},
   "outputs": [],
   "source": [
    "#rounding numbers is built in\n",
    "round(3.14159)"
   ]
  },
  {
   "cell_type": "code",
   "execution_count": null,
   "id": "615b476b-8f2a-48c3-9aea-86277007cdba",
   "metadata": {},
   "outputs": [],
   "source": [
    "round(3.14159, 2)"
   ]
  },
  {
   "cell_type": "code",
   "execution_count": null,
   "id": "135b60f4-a2e2-45f8-bd44-e2e76a48d6dc",
   "metadata": {},
   "outputs": [],
   "source": [
    "help(round)"
   ]
  },
  {
   "cell_type": "code",
   "execution_count": null,
   "id": "2938bec4-3013-40eb-82fb-cdf8bd18b8c4",
   "metadata": {},
   "outputs": [],
   "source": [
    "round(3.14159, ndigits=2)"
   ]
  },
  {
   "cell_type": "code",
   "execution_count": null,
   "id": "6dd228d2-3f9d-4526-80ba-5999b64819b3",
   "metadata": {},
   "outputs": [],
   "source": [
    "#all functions return a new value\n",
    "rounded_pi = round(3.14159,2)\n",
    "print(rounded_pi)"
   ]
  },
  {
   "cell_type": "markdown",
   "id": "2149680a-bf8f-4974-a642-69ebf9b24a34",
   "metadata": {},
   "source": [
    "## Challenge\n",
    "In what order do the operations happen?\n",
    "\n",
    "radiance = 1.0\n",
    "\n",
    "radiance = max(2.1, 2.0 +min(radiance, 1.1*radiance - 0.5))"
   ]
  },
  {
   "cell_type": "code",
   "execution_count": null,
   "id": "f4f2277e-5d4a-437c-8262-a1889608d52c",
   "metadata": {},
   "outputs": [],
   "source": [
    "help(min)"
   ]
  },
  {
   "cell_type": "code",
   "execution_count": null,
   "id": "a8a440a2-636f-4414-9db2-d7ea53d07697",
   "metadata": {},
   "outputs": [],
   "source": [
    "radiance = 1.0 \n",
    "radiance = max(2.1, 2.0 +min(radiance, 1.1*radiance - 0.5))\n",
    "print (radiance)"
   ]
  },
  {
   "cell_type": "code",
   "execution_count": null,
   "id": "d2d27955-2154-4d74-9c6b-a5485f0401b9",
   "metadata": {},
   "outputs": [],
   "source": [
    "#Break down these operations\n",
    "radiance = 1.0\n",
    "\n",
    "min_arg_2 = 1.1 * radiance - 0.5\n",
    "print(\"Min_arg_2\", min_arg_2)\n",
    "\n",
    "min_result = min(radiance, min_arg_2)\n",
    "print(\"Min_result\", min_result)\n",
    "\n",
    "radiance = max (2.1, 2.0+ min_result)\n",
    "print(radiance)"
   ]
  },
  {
   "cell_type": "markdown",
   "id": "e86361a7-1423-4487-9633-0d7672472920",
   "metadata": {},
   "source": [
    "## A Brief Interlude with Git\n"
   ]
  },
  {
   "cell_type": "code",
   "execution_count": null,
   "id": "82c5c465-c4f8-4639-afde-49ddd7942cbf",
   "metadata": {},
   "outputs": [],
   "source": []
  }
 ],
 "metadata": {
  "kernelspec": {
   "display_name": "Python 3 (ipykernel)",
   "language": "python",
   "name": "python3"
  },
  "language_info": {
   "codemirror_mode": {
    "name": "ipython",
    "version": 3
   },
   "file_extension": ".py",
   "mimetype": "text/x-python",
   "name": "python",
   "nbconvert_exporter": "python",
   "pygments_lexer": "ipython3",
   "version": "3.12.4"
  }
 },
 "nbformat": 4,
 "nbformat_minor": 5
}
