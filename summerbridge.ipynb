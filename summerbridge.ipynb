{
 "cells": [
  {
   "cell_type": "code",
   "execution_count": null,
   "id": "3b209dbf-8cf9-4b99-9283-849c3e6c43a4",
   "metadata": {},
   "outputs": [],
   "source": [
    "3 + 7 "
   ]
  },
  {
   "cell_type": "code",
   "execution_count": null,
   "id": "5102820d-35fe-481b-bc93-6c768987bc5e",
   "metadata": {},
   "outputs": [],
   "source": [
    "print(\"hello\")"
   ]
  },
  {
   "cell_type": "code",
   "execution_count": null,
   "id": "9b86f30f-8000-4f99-9d79-b863c1f677b7",
   "metadata": {},
   "outputs": [],
   "source": [
    "name = \"Aminah\"\n",
    "age = 42"
   ]
  },
  {
   "cell_type": "code",
   "execution_count": null,
   "id": "4842790b-c962-4475-9d4c-3d676da234a8",
   "metadata": {},
   "outputs": [],
   "source": [
    "print(age)"
   ]
  },
  {
   "cell_type": "code",
   "execution_count": null,
   "id": "98876866-370a-4592-89ac-b8516b5c3100",
   "metadata": {},
   "outputs": [],
   "source": [
    "# This is a comment. It will not run.\n",
    "#you can echo values without using print in this notebook.\n",
    "name"
   ]
  },
  {
   "cell_type": "markdown",
   "id": "15c2a657-a3fd-44e5-aef3-75205346f646",
   "metadata": {},
   "source": [
    "# Variables and values"
   ]
  },
  {
   "cell_type": "code",
   "execution_count": null,
   "id": "8c937606-1276-42b1-8164-5d85b3eecb4d",
   "metadata": {},
   "outputs": [],
   "source": [
    "#variables can be used in calculations\n",
    "print(age)\n",
    "age = age + 3\n",
    "print (age)"
   ]
  },
  {
   "cell_type": "code",
   "execution_count": null,
   "id": "cc5f0229-3485-4ee9-a951-a6ca98f6a065",
   "metadata": {},
   "outputs": [],
   "source": [
    "#Order of operations matters!\n",
    "first = 1 \n",
    "second = first * 5\n",
    "first = 2\n",
    "print(first)\n",
    "print(second)"
   ]
  },
  {
   "cell_type": "code",
   "execution_count": null,
   "id": "16d3b4bd-4be8-4d2e-b54c-990a1ace4458",
   "metadata": {},
   "outputs": [],
   "source": [
    "#values have types. types affect what you can do with them.\n",
    "print(5-3)\n",
    "#print(\"hello\"-\"h\")"
   ]
  },
  {
   "cell_type": "code",
   "execution_count": null,
   "id": "06a61383-8ec9-40fc-aa79-ab3dfbf05eae",
   "metadata": {},
   "outputs": [],
   "source": [
    "print(len(\"hello\"))\n",
    "#print(len(6))"
   ]
  },
  {
   "cell_type": "markdown",
   "id": "4055c01f-49b9-4b69-bc61-82711cbb73e0",
   "metadata": {},
   "source": [
    "## Challenge\n",
    "Explain what each operator does\n",
    "\n",
    "print(5//3)\n",
    "\n",
    "print (5/3) \n",
    "\n",
    "print (5%3)"
   ]
  },
  {
   "cell_type": "code",
   "execution_count": null,
   "id": "efc04b78-5d89-491c-a601-3e0e117b64ad",
   "metadata": {},
   "outputs": [],
   "source": [
    "#Integer division\n",
    "print(5//3)\n",
    "\n",
    "#Regular division\n",
    "print (5/3)\n",
    "\n",
    "#Remainder (complement of the 1st one) \n",
    "#useful if trying to count things\n",
    "print (5%3)"
   ]
  },
  {
   "cell_type": "markdown",
   "id": "318e5c98-f6fb-4ca6-847d-2db667a0de84",
   "metadata": {},
   "source": [
    "# Getting help"
   ]
  },
  {
   "cell_type": "code",
   "execution_count": null,
   "id": "ab7cc52c-fe50-4c92-ba2c-8fd86ba9644a",
   "metadata": {},
   "outputs": [],
   "source": [
    "#rounding numbers is built in\n",
    "round(3.14159)"
   ]
  },
  {
   "cell_type": "code",
   "execution_count": null,
   "id": "615b476b-8f2a-48c3-9aea-86277007cdba",
   "metadata": {},
   "outputs": [],
   "source": [
    "round(3.14159, 2)"
   ]
  },
  {
   "cell_type": "code",
   "execution_count": null,
   "id": "135b60f4-a2e2-45f8-bd44-e2e76a48d6dc",
   "metadata": {},
   "outputs": [],
   "source": [
    "help(round)"
   ]
  },
  {
   "cell_type": "code",
   "execution_count": null,
   "id": "2938bec4-3013-40eb-82fb-cdf8bd18b8c4",
   "metadata": {},
   "outputs": [],
   "source": [
    "round(3.14159, ndigits=2)"
   ]
  },
  {
   "cell_type": "code",
   "execution_count": null,
   "id": "6dd228d2-3f9d-4526-80ba-5999b64819b3",
   "metadata": {},
   "outputs": [],
   "source": [
    "#all functions return a new value\n",
    "rounded_pi = round(3.14159,2)\n",
    "print(rounded_pi)"
   ]
  },
  {
   "cell_type": "markdown",
   "id": "2149680a-bf8f-4974-a642-69ebf9b24a34",
   "metadata": {},
   "source": [
    "## Challenge\n",
    "In what order do the operations happen?\n",
    "\n",
    "radiance = 1.0\n",
    "\n",
    "radiance = max(2.1, 2.0 +min(radiance, 1.1*radiance - 0.5))"
   ]
  },
  {
   "cell_type": "code",
   "execution_count": null,
   "id": "f4f2277e-5d4a-437c-8262-a1889608d52c",
   "metadata": {},
   "outputs": [],
   "source": [
    "help(min)"
   ]
  },
  {
   "cell_type": "code",
   "execution_count": null,
   "id": "a8a440a2-636f-4414-9db2-d7ea53d07697",
   "metadata": {},
   "outputs": [],
   "source": [
    "radiance = 1.0 \n",
    "radiance = max(2.1, 2.0 +min(radiance, 1.1*radiance - 0.5))\n",
    "print (radiance)"
   ]
  },
  {
   "cell_type": "code",
   "execution_count": null,
   "id": "d2d27955-2154-4d74-9c6b-a5485f0401b9",
   "metadata": {},
   "outputs": [],
   "source": [
    "#Break down these operations\n",
    "radiance = 1.0\n",
    "\n",
    "min_arg_2 = 1.1 * radiance - 0.5\n",
    "print(\"Min_arg_2\", min_arg_2)\n",
    "\n",
    "min_result = min(radiance, min_arg_2)\n",
    "print(\"Min_result\", min_result)\n",
    "\n",
    "radiance = max (2.1, 2.0+ min_result)\n",
    "print(radiance)"
   ]
  },
  {
   "cell_type": "markdown",
   "id": "e86361a7-1423-4487-9633-0d7672472920",
   "metadata": {},
   "source": [
    "# A Brief Interlude with Git\n"
   ]
  },
  {
   "cell_type": "markdown",
   "id": "9b5f2bdf-292a-4117-8751-0dc6ffcbf95f",
   "metadata": {},
   "source": [
    "# Libraries"
   ]
  },
  {
   "cell_type": "code",
   "execution_count": null,
   "id": "a0e52969-985d-4c62-bb61-7eb2fb1191f8",
   "metadata": {},
   "outputs": [],
   "source": [
    "import math"
   ]
  },
  {
   "cell_type": "code",
   "execution_count": null,
   "id": "e49d036a-da98-440d-b668-7d3992125a49",
   "metadata": {},
   "outputs": [],
   "source": [
    "math.pi"
   ]
  },
  {
   "cell_type": "code",
   "execution_count": null,
   "id": "99212a5d-1d34-4bbd-a640-72143d687fc3",
   "metadata": {},
   "outputs": [],
   "source": [
    "print(math.pi)\n",
    "print(math.cos(math.pi))"
   ]
  },
  {
   "cell_type": "code",
   "execution_count": null,
   "id": "53d488fe-d0d5-4484-bc42-543114a19089",
   "metadata": {},
   "outputs": [],
   "source": [
    "#get complete help with help()\n",
    "#help(math)\n",
    "\n",
    "#get a list of options with dir() \n",
    "print(dir(math))"
   ]
  },
  {
   "cell_type": "markdown",
   "id": "a7108fb6-1889-4d44-9f35-8578b529eac8",
   "metadata": {},
   "source": [
    "# List"
   ]
  },
  {
   "cell_type": "code",
   "execution_count": null,
   "id": "9e5404f6-f93f-432d-9191-35587898a342",
   "metadata": {},
   "outputs": [],
   "source": [
    "# A list is an ordered collection of stuff\n",
    "fruits = [\"apple\", \"banana\", \"cherry\", \"date\", \"elderberry\", \"fig\"]"
   ]
  },
  {
   "cell_type": "code",
   "execution_count": null,
   "id": "3751fb09-f2bc-48b8-b663-b27263396be4",
   "metadata": {},
   "outputs": [],
   "source": [
    "fruits"
   ]
  },
  {
   "cell_type": "code",
   "execution_count": null,
   "id": "82bda529-e1cf-4747-9430-c2a71c4c9ec2",
   "metadata": {},
   "outputs": [],
   "source": [
    "len(fruits)"
   ]
  },
  {
   "cell_type": "code",
   "execution_count": null,
   "id": "e09bc0cf-c269-476d-bd39-40fe23d5d98d",
   "metadata": {},
   "outputs": [],
   "source": [
    "# lists are indexed by position, counting from 0\n",
    "#first item\n",
    "print(fruits[0])\n",
    "\n",
    "#fifth item\n",
    "print(fruits[4])\n"
   ]
  },
  {
   "cell_type": "code",
   "execution_count": null,
   "id": "0cb02448-fe01-4c4d-b88a-a83a96f0363e",
   "metadata": {},
   "outputs": [],
   "source": [
    "# get subsets by slicing the list\n",
    "# get the first 3 items, this is upto not including 3rd item\n",
    "fruits[0:3]"
   ]
  },
  {
   "cell_type": "code",
   "execution_count": null,
   "id": "689d9534-7a52-4fb2-9406-fd209015eb14",
   "metadata": {},
   "outputs": [],
   "source": [
    "fruits[2:5]"
   ]
  },
  {
   "cell_type": "code",
   "execution_count": null,
   "id": "2a936dfc-a7f5-4e8d-921d-da3b9ae4b667",
   "metadata": {},
   "outputs": [],
   "source": [
    "#get items by step\n",
    "#get the first 5 items , every other item\n",
    "fruits[0:5:2]"
   ]
  },
  {
   "cell_type": "code",
   "execution_count": null,
   "id": "3a8fdf76-ccf8-473e-b146-8dc5b3e0351b",
   "metadata": {},
   "outputs": [],
   "source": [
    "#get first 5 items, every 3rd item\n",
    "fruits[0:5:3]"
   ]
  },
  {
   "cell_type": "code",
   "execution_count": null,
   "id": "b3a60137-6f35-4d38-a78a-5dbad6c24731",
   "metadata": {},
   "outputs": [],
   "source": [
    "print(len(fruits))"
   ]
  },
  {
   "cell_type": "code",
   "execution_count": null,
   "id": "f23c0bf7-af69-4f55-91ec-374dbd173649",
   "metadata": {},
   "outputs": [],
   "source": [
    "fruits[0:7]"
   ]
  },
  {
   "cell_type": "markdown",
   "id": "f52f4c82-6490-4211-9022-86fb7b3a8986",
   "metadata": {},
   "source": [
    "# Challenge\n",
    " What are the following statements doing?\n",
    "\n",
    " fruits[-1] \n",
    " \n",
    " fruits[20]\n",
    " \n",
    " fruits[-3]"
   ]
  },
  {
   "cell_type": "code",
   "execution_count": null,
   "id": "c8b68816-f9fb-4894-9918-0dfb2d3fc6d0",
   "metadata": {},
   "outputs": [],
   "source": [
    "fruits[-1]"
   ]
  },
  {
   "cell_type": "code",
   "execution_count": null,
   "id": "773a5799-63a0-4d55-9ff2-cdbe6b457700",
   "metadata": {},
   "outputs": [],
   "source": [
    "#fruits[20]"
   ]
  },
  {
   "cell_type": "code",
   "execution_count": null,
   "id": "a608159b-2750-48ab-bfe1-e067da2e2b76",
   "metadata": {},
   "outputs": [],
   "source": [
    "fruits[-3]"
   ]
  },
  {
   "cell_type": "code",
   "execution_count": null,
   "id": "294e51e4-0b56-43f8-9ee6-dd12ca5458e3",
   "metadata": {},
   "outputs": [],
   "source": [
    "#negative counts backwards, starting from the end \n",
    "# 20 is out of range - only 6 fruits"
   ]
  },
  {
   "cell_type": "code",
   "execution_count": null,
   "id": "8e304554-ac76-4d36-b420-1be1629b7e74",
   "metadata": {},
   "outputs": [],
   "source": [
    "#why are lists indexed this way?\n",
    "print(fruits[:2])\n",
    "print(fruits[2:])\n",
    "print(len(fruits[1:3]))"
   ]
  },
  {
   "cell_type": "markdown",
   "id": "c6bd4057-906d-4f10-a86e-a172aec1ef93",
   "metadata": {},
   "source": [
    "# Adding stuff to lists"
   ]
  },
  {
   "cell_type": "code",
   "execution_count": null,
   "id": "1be60838-c469-4693-912d-e59c87f681a8",
   "metadata": {},
   "outputs": [],
   "source": [
    "# update a specific item\n",
    "print(fruits)\n",
    "\n",
    "fruits [0] = \"apricots\"\n",
    "print(fruits)"
   ]
  },
  {
   "cell_type": "code",
   "execution_count": null,
   "id": "d0338ef3-e9cd-4502-8c48-8aac2c7ba74f",
   "metadata": {},
   "outputs": [],
   "source": [
    "# add new items to the list\n",
    "fruits.append(\"grape\")\n",
    "print(fruits)"
   ]
  },
  {
   "cell_type": "code",
   "execution_count": null,
   "id": "3d43fc5a-f1ed-47bf-a3a8-726f82d45e9f",
   "metadata": {},
   "outputs": [],
   "source": [
    "# add items froma second list to the first list\n",
    "more_fruits = [\"honeydew\", \"imbe\", \"jackfruit\"]\n",
    "fruits.extend(more_fruits)\n",
    "print (fruits)\n",
    "#Append takes individual items and make one continous list in alphabetical order \n"
   ]
  },
  {
   "cell_type": "code",
   "execution_count": null,
   "id": "4101d836-1e12-4039-b116-1d2c869691de",
   "metadata": {},
   "outputs": [],
   "source": [
    "# many functions operate on collections\n",
    "# assessing our wide recieving corp\n",
    "receiving_yards = [450, 370, 870, 150]\n",
    "\n",
    "mean_yards = sum(receiving_yards)/len(receiving_yards)\n",
    "print(mean_yards)"
   ]
  },
  {
   "cell_type": "markdown",
   "id": "0ef99cb6-b578-4b57-aa0d-ba1a5749b2c8",
   "metadata": {},
   "source": [
    "# For Loops"
   ]
  },
  {
   "cell_type": "code",
   "execution_count": null,
   "id": "2520997e-c8c3-496f-b83b-4c0a90d6791e",
   "metadata": {},
   "outputs": [],
   "source": [
    "for fruit in fruits:\n",
    "    print(fruit)"
   ]
  },
  {
   "cell_type": "code",
   "execution_count": null,
   "id": "0967261b-7a1c-4624-bc04-3d829542f19d",
   "metadata": {},
   "outputs": [],
   "source": [
    "for bob in fruits:\n",
    "    print(bob)"
   ]
  },
  {
   "cell_type": "code",
   "execution_count": null,
   "id": "081feb18-b1f4-4766-b54b-bf3bbffbe3f3",
   "metadata": {},
   "outputs": [],
   "source": [
    "#code blcoks can contain many statements \n",
    "primes = [2,3,5]\n",
    "for p in primes:\n",
    "    squared = p** 2\n",
    "    cubed = p ** 3\n",
    "    print(p, squared, cubed)"
   ]
  },
  {
   "cell_type": "code",
   "execution_count": null,
   "id": "d54da0bb-ca36-49d8-ae21-ea31f8dba18f",
   "metadata": {},
   "outputs": [],
   "source": [
    "# create a new collection from an existing collection\n",
    "primes_squared = []\n",
    "for p in primes:\n",
    "    primes_squared.append(p ** 2)\n",
    "\n",
    "print(primes_squared)"
   ]
  },
  {
   "cell_type": "markdown",
   "id": "eae86f28-530c-417a-8065-162e428e2bc0",
   "metadata": {},
   "source": [
    "## Challenge\n",
    "get the total length of tall the items in the fruits list (i.e. total character count)"
   ]
  },
  {
   "cell_type": "code",
   "execution_count": null,
   "id": "056765d8-134f-4991-8371-ea1c12726e8d",
   "metadata": {},
   "outputs": [],
   "source": [
    "#Solution 1\n",
    "fruit_lengths = []\n",
    "for f in fruits:\n",
    "    fruit_lengths.append(len(f))\n",
    "\n",
    "print (fruit_lengths)\n",
    "print(sum(fruit_lengths))"
   ]
  },
  {
   "cell_type": "code",
   "execution_count": null,
   "id": "71217d87-934c-4ca6-8f04-2aa868d7da43",
   "metadata": {},
   "outputs": [],
   "source": [
    "#Solution 2\n",
    "count = 0\n",
    "for f in fruits: \n",
    "    count = count + len(f)\n",
    "    print(count)\n",
    "\n",
    "print (\"Final count\", count)"
   ]
  },
  {
   "cell_type": "code",
   "execution_count": null,
   "id": "3d17ca6d-f061-48cf-8eef-1e96346e16fd",
   "metadata": {},
   "outputs": [],
   "source": [
    "#Generator comprehension\n",
    "sum(len(f) for f in fruits)"
   ]
  },
  {
   "cell_type": "code",
   "execution_count": null,
   "id": "c03ee068-905b-4de5-9e23-ed9e129e69bf",
   "metadata": {},
   "outputs": [],
   "source": [
    "len(\"\".join(fruits))"
   ]
  },
  {
   "cell_type": "code",
   "execution_count": null,
   "id": "00672cea-243f-4936-8a2f-e4156d87a9af",
   "metadata": {},
   "outputs": [],
   "source": [
    "print(\"   \".join(fruits))"
   ]
  },
  {
   "cell_type": "code",
   "execution_count": null,
   "id": "258e8d02-95e9-4354-93c0-19af2bf53a52",
   "metadata": {},
   "outputs": [],
   "source": [
    "print(\"_\".join(fruits))"
   ]
  },
  {
   "cell_type": "code",
   "execution_count": null,
   "id": "4a7215ee-6484-44bc-b0f0-e392a231125e",
   "metadata": {},
   "outputs": [],
   "source": [
    "# Text join\n",
    "joined_fruits = ''.join(fruits)\n",
    "print(joined_fruits)\n",
    "print(len(joined_fruits))"
   ]
  },
  {
   "cell_type": "code",
   "execution_count": null,
   "id": "928a16ce-ee05-4e59-9415-de2e5040be34",
   "metadata": {},
   "outputs": [],
   "source": []
  }
 ],
 "metadata": {
  "kernelspec": {
   "display_name": "Python 3 (ipykernel)",
   "language": "python",
   "name": "python3"
  },
  "language_info": {
   "codemirror_mode": {
    "name": "ipython",
    "version": 3
   },
   "file_extension": ".py",
   "mimetype": "text/x-python",
   "name": "python",
   "nbconvert_exporter": "python",
   "pygments_lexer": "ipython3",
   "version": "3.12.4"
  }
 },
 "nbformat": 4,
 "nbformat_minor": 5
}
