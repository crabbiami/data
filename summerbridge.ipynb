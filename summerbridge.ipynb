{
 "cells": [
  {
   "cell_type": "code",
   "execution_count": null,
   "id": "3b209dbf-8cf9-4b99-9283-849c3e6c43a4",
   "metadata": {},
   "outputs": [],
   "source": [
    "3 + 7 "
   ]
  },
  {
   "cell_type": "code",
   "execution_count": null,
   "id": "5102820d-35fe-481b-bc93-6c768987bc5e",
   "metadata": {},
   "outputs": [],
   "source": [
    "print(\"hello\")"
   ]
  },
  {
   "cell_type": "code",
   "execution_count": null,
   "id": "9b86f30f-8000-4f99-9d79-b863c1f677b7",
   "metadata": {},
   "outputs": [],
   "source": [
    "name = \"Aminah\"\n",
    "age = 42"
   ]
  },
  {
   "cell_type": "code",
   "execution_count": null,
   "id": "4842790b-c962-4475-9d4c-3d676da234a8",
   "metadata": {},
   "outputs": [],
   "source": [
    "print(age)"
   ]
  },
  {
   "cell_type": "code",
   "execution_count": null,
   "id": "98876866-370a-4592-89ac-b8516b5c3100",
   "metadata": {},
   "outputs": [],
   "source": [
    "# This is a comment. It will not run.\n",
    "#you can echo values without using print in this notebook.\n",
    "name"
   ]
  },
  {
   "cell_type": "markdown",
   "id": "15c2a657-a3fd-44e5-aef3-75205346f646",
   "metadata": {},
   "source": [
    "# Variables and values"
   ]
  },
  {
   "cell_type": "code",
   "execution_count": null,
   "id": "8c937606-1276-42b1-8164-5d85b3eecb4d",
   "metadata": {},
   "outputs": [],
   "source": [
    "#variables can be used in calculations\n",
    "print(age)\n",
    "age = age + 3\n",
    "print (age)"
   ]
  },
  {
   "cell_type": "code",
   "execution_count": null,
   "id": "cc5f0229-3485-4ee9-a951-a6ca98f6a065",
   "metadata": {},
   "outputs": [],
   "source": [
    "#Order of operations matters!\n",
    "first = 1 \n",
    "second = first * 5\n",
    "first = 2\n",
    "print(first)\n",
    "print(second)"
   ]
  },
  {
   "cell_type": "code",
   "execution_count": null,
   "id": "16d3b4bd-4be8-4d2e-b54c-990a1ace4458",
   "metadata": {},
   "outputs": [],
   "source": [
    "#values have types. types affect what you can do with them.\n",
    "print(5-3)\n",
    "#print(\"hello\"-\"h\")"
   ]
  },
  {
   "cell_type": "code",
   "execution_count": null,
   "id": "06a61383-8ec9-40fc-aa79-ab3dfbf05eae",
   "metadata": {},
   "outputs": [],
   "source": [
    "print(len(\"hello\"))\n",
    "#print(len(6))"
   ]
  },
  {
   "cell_type": "markdown",
   "id": "4055c01f-49b9-4b69-bc61-82711cbb73e0",
   "metadata": {},
   "source": [
    "## Challenge\n",
    "Explain what each operator does\n",
    "\n",
    "print(5//3)\n",
    "\n",
    "print (5/3) \n",
    "\n",
    "print (5%3)"
   ]
  },
  {
   "cell_type": "code",
   "execution_count": null,
   "id": "efc04b78-5d89-491c-a601-3e0e117b64ad",
   "metadata": {},
   "outputs": [],
   "source": [
    "#Integer division\n",
    "print(5//3)\n",
    "\n",
    "#Regular division\n",
    "print (5/3)\n",
    "\n",
    "#Remainder (complement of the 1st one) \n",
    "#useful if trying to count things\n",
    "print (5%3)"
   ]
  },
  {
   "cell_type": "markdown",
   "id": "318e5c98-f6fb-4ca6-847d-2db667a0de84",
   "metadata": {},
   "source": [
    "# Getting help"
   ]
  },
  {
   "cell_type": "code",
   "execution_count": null,
   "id": "ab7cc52c-fe50-4c92-ba2c-8fd86ba9644a",
   "metadata": {},
   "outputs": [],
   "source": [
    "#rounding numbers is built in\n",
    "round(3.14159)"
   ]
  },
  {
   "cell_type": "code",
   "execution_count": null,
   "id": "615b476b-8f2a-48c3-9aea-86277007cdba",
   "metadata": {},
   "outputs": [],
   "source": [
    "round(3.14159, 2)"
   ]
  },
  {
   "cell_type": "code",
   "execution_count": null,
   "id": "135b60f4-a2e2-45f8-bd44-e2e76a48d6dc",
   "metadata": {},
   "outputs": [],
   "source": [
    "help(round)"
   ]
  },
  {
   "cell_type": "code",
   "execution_count": null,
   "id": "2938bec4-3013-40eb-82fb-cdf8bd18b8c4",
   "metadata": {},
   "outputs": [],
   "source": [
    "round(3.14159, ndigits=2)"
   ]
  },
  {
   "cell_type": "code",
   "execution_count": null,
   "id": "6dd228d2-3f9d-4526-80ba-5999b64819b3",
   "metadata": {},
   "outputs": [],
   "source": [
    "#all functions return a new value\n",
    "rounded_pi = round(3.14159,2)\n",
    "print(rounded_pi)"
   ]
  },
  {
   "cell_type": "markdown",
   "id": "2149680a-bf8f-4974-a642-69ebf9b24a34",
   "metadata": {},
   "source": [
    "## Challenge\n",
    "In what order do the operations happen?\n",
    "\n",
    "radiance = 1.0\n",
    "\n",
    "radiance = max(2.1, 2.0 +min(radiance, 1.1*radiance - 0.5))"
   ]
  },
  {
   "cell_type": "code",
   "execution_count": null,
   "id": "f4f2277e-5d4a-437c-8262-a1889608d52c",
   "metadata": {},
   "outputs": [],
   "source": [
    "help(min)"
   ]
  },
  {
   "cell_type": "code",
   "execution_count": null,
   "id": "a8a440a2-636f-4414-9db2-d7ea53d07697",
   "metadata": {},
   "outputs": [],
   "source": [
    "radiance = 1.0 \n",
    "radiance = max(2.1, 2.0 +min(radiance, 1.1*radiance - 0.5))\n",
    "print (radiance)"
   ]
  },
  {
   "cell_type": "code",
   "execution_count": null,
   "id": "d2d27955-2154-4d74-9c6b-a5485f0401b9",
   "metadata": {},
   "outputs": [],
   "source": [
    "#Break down these operations\n",
    "radiance = 1.0\n",
    "\n",
    "min_arg_2 = 1.1 * radiance - 0.5\n",
    "print(\"Min_arg_2\", min_arg_2)\n",
    "\n",
    "min_result = min(radiance, min_arg_2)\n",
    "print(\"Min_result\", min_result)\n",
    "\n",
    "radiance = max (2.1, 2.0+ min_result)\n",
    "print(radiance)"
   ]
  },
  {
   "cell_type": "markdown",
   "id": "e86361a7-1423-4487-9633-0d7672472920",
   "metadata": {},
   "source": [
    "# A Brief Interlude with Git\n"
   ]
  },
  {
   "cell_type": "markdown",
   "id": "9b5f2bdf-292a-4117-8751-0dc6ffcbf95f",
   "metadata": {},
   "source": [
    "# Libraries"
   ]
  },
  {
   "cell_type": "code",
   "execution_count": null,
   "id": "a0e52969-985d-4c62-bb61-7eb2fb1191f8",
   "metadata": {},
   "outputs": [],
   "source": [
    "import math"
   ]
  },
  {
   "cell_type": "code",
   "execution_count": null,
   "id": "e49d036a-da98-440d-b668-7d3992125a49",
   "metadata": {},
   "outputs": [],
   "source": [
    "math.pi"
   ]
  },
  {
   "cell_type": "code",
   "execution_count": null,
   "id": "99212a5d-1d34-4bbd-a640-72143d687fc3",
   "metadata": {},
   "outputs": [],
   "source": [
    "print(math.pi)\n",
    "print(math.cos(math.pi))"
   ]
  },
  {
   "cell_type": "code",
   "execution_count": null,
   "id": "53d488fe-d0d5-4484-bc42-543114a19089",
   "metadata": {},
   "outputs": [],
   "source": [
    "#get complete help with help()\n",
    "#help(math)\n",
    "\n",
    "#get a list of options with dir() \n",
    "print(dir(math))"
   ]
  },
  {
   "cell_type": "markdown",
   "id": "a7108fb6-1889-4d44-9f35-8578b529eac8",
   "metadata": {},
   "source": [
    "# List"
   ]
  },
  {
   "cell_type": "code",
   "execution_count": null,
   "id": "9e5404f6-f93f-432d-9191-35587898a342",
   "metadata": {},
   "outputs": [],
   "source": [
    "# A list is an ordered collection of stuff\n",
    "fruits = [\"apple\", \"banana\", \"cherry\", \"date\", \"elderberry\", \"fig\"]"
   ]
  },
  {
   "cell_type": "code",
   "execution_count": null,
   "id": "3751fb09-f2bc-48b8-b663-b27263396be4",
   "metadata": {},
   "outputs": [],
   "source": [
    "fruits"
   ]
  },
  {
   "cell_type": "code",
   "execution_count": null,
   "id": "82bda529-e1cf-4747-9430-c2a71c4c9ec2",
   "metadata": {},
   "outputs": [],
   "source": [
    "len(fruits)"
   ]
  },
  {
   "cell_type": "code",
   "execution_count": null,
   "id": "e09bc0cf-c269-476d-bd39-40fe23d5d98d",
   "metadata": {},
   "outputs": [],
   "source": [
    "# lists are indexed by position, counting from 0\n",
    "#first item\n",
    "print(fruits[0])\n",
    "\n",
    "#fifth item\n",
    "print(fruits[4])\n"
   ]
  },
  {
   "cell_type": "code",
   "execution_count": null,
   "id": "0cb02448-fe01-4c4d-b88a-a83a96f0363e",
   "metadata": {},
   "outputs": [],
   "source": [
    "# get subsets by slicing the list\n",
    "# get the first 3 items, this is upto not including 3rd item\n",
    "fruits[0:3]"
   ]
  },
  {
   "cell_type": "code",
   "execution_count": null,
   "id": "689d9534-7a52-4fb2-9406-fd209015eb14",
   "metadata": {},
   "outputs": [],
   "source": [
    "fruits[2:5]"
   ]
  },
  {
   "cell_type": "code",
   "execution_count": null,
   "id": "2a936dfc-a7f5-4e8d-921d-da3b9ae4b667",
   "metadata": {},
   "outputs": [],
   "source": [
    "#get items by step\n",
    "#get the first 5 items , every other item\n",
    "fruits[0:5:2]"
   ]
  },
  {
   "cell_type": "code",
   "execution_count": null,
   "id": "3a8fdf76-ccf8-473e-b146-8dc5b3e0351b",
   "metadata": {},
   "outputs": [],
   "source": [
    "#get first 5 items, every 3rd item\n",
    "fruits[0:5:3]"
   ]
  },
  {
   "cell_type": "code",
   "execution_count": null,
   "id": "b3a60137-6f35-4d38-a78a-5dbad6c24731",
   "metadata": {},
   "outputs": [],
   "source": [
    "print(len(fruits))"
   ]
  },
  {
   "cell_type": "code",
   "execution_count": null,
   "id": "f23c0bf7-af69-4f55-91ec-374dbd173649",
   "metadata": {},
   "outputs": [],
   "source": [
    "fruits[0:7]"
   ]
  },
  {
   "cell_type": "markdown",
   "id": "f52f4c82-6490-4211-9022-86fb7b3a8986",
   "metadata": {},
   "source": [
    "# Challenge\n",
    " What are the following statements doing?\n",
    "\n",
    " fruits[-1] \n",
    " \n",
    " fruits[20]\n",
    " \n",
    " fruits[-3]"
   ]
  },
  {
   "cell_type": "code",
   "execution_count": null,
   "id": "c8b68816-f9fb-4894-9918-0dfb2d3fc6d0",
   "metadata": {},
   "outputs": [],
   "source": [
    "fruits[-1]"
   ]
  },
  {
   "cell_type": "code",
   "execution_count": null,
   "id": "773a5799-63a0-4d55-9ff2-cdbe6b457700",
   "metadata": {},
   "outputs": [],
   "source": [
    "#fruits[20]"
   ]
  },
  {
   "cell_type": "code",
   "execution_count": null,
   "id": "a608159b-2750-48ab-bfe1-e067da2e2b76",
   "metadata": {},
   "outputs": [],
   "source": [
    "fruits[-3]"
   ]
  },
  {
   "cell_type": "code",
   "execution_count": null,
   "id": "294e51e4-0b56-43f8-9ee6-dd12ca5458e3",
   "metadata": {},
   "outputs": [],
   "source": [
    "#negative counts backwards, starting from the end \n",
    "# 20 is out of range - only 6 fruits"
   ]
  },
  {
   "cell_type": "code",
   "execution_count": null,
   "id": "8e304554-ac76-4d36-b420-1be1629b7e74",
   "metadata": {},
   "outputs": [],
   "source": [
    "#why are lists indexed this way?\n",
    "print(fruits[:2])\n",
    "print(fruits[2:])\n",
    "print(len(fruits[1:3]))"
   ]
  },
  {
   "cell_type": "markdown",
   "id": "c6bd4057-906d-4f10-a86e-a172aec1ef93",
   "metadata": {},
   "source": [
    "# Adding stuff to lists"
   ]
  },
  {
   "cell_type": "code",
   "execution_count": null,
   "id": "1be60838-c469-4693-912d-e59c87f681a8",
   "metadata": {},
   "outputs": [],
   "source": [
    "# update a specific item\n",
    "print(fruits)\n",
    "\n",
    "fruits [0] = \"apricots\"\n",
    "print(fruits)"
   ]
  },
  {
   "cell_type": "code",
   "execution_count": null,
   "id": "d0338ef3-e9cd-4502-8c48-8aac2c7ba74f",
   "metadata": {},
   "outputs": [],
   "source": [
    "# add new items to the list\n",
    "fruits.append(\"grape\")\n",
    "print(fruits)"
   ]
  },
  {
   "cell_type": "code",
   "execution_count": null,
   "id": "3d43fc5a-f1ed-47bf-a3a8-726f82d45e9f",
   "metadata": {},
   "outputs": [],
   "source": [
    "# add items froma second list to the first list\n",
    "more_fruits = [\"honeydew\", \"imbe\", \"jackfruit\"]\n",
    "fruits.extend(more_fruits)\n",
    "print (fruits)\n",
    "#Append takes individual items and make one continous list in alphabetical order \n"
   ]
  },
  {
   "cell_type": "code",
   "execution_count": null,
   "id": "4101d836-1e12-4039-b116-1d2c869691de",
   "metadata": {},
   "outputs": [],
   "source": [
    "# many functions operate on collections\n",
    "# assessing our wide recieving corp\n",
    "receiving_yards = [450, 370, 870, 150]\n",
    "\n",
    "mean_yards = sum(receiving_yards)/len(receiving_yards)\n",
    "print(mean_yards)"
   ]
  },
  {
   "cell_type": "markdown",
   "id": "0ef99cb6-b578-4b57-aa0d-ba1a5749b2c8",
   "metadata": {},
   "source": [
    "# For Loops"
   ]
  },
  {
   "cell_type": "code",
   "execution_count": null,
   "id": "2520997e-c8c3-496f-b83b-4c0a90d6791e",
   "metadata": {},
   "outputs": [],
   "source": [
    "for fruit in fruits:\n",
    "    print(fruit)"
   ]
  },
  {
   "cell_type": "code",
   "execution_count": null,
   "id": "0967261b-7a1c-4624-bc04-3d829542f19d",
   "metadata": {},
   "outputs": [],
   "source": [
    "for bob in fruits:\n",
    "    print(bob)"
   ]
  },
  {
   "cell_type": "code",
   "execution_count": null,
   "id": "081feb18-b1f4-4766-b54b-bf3bbffbe3f3",
   "metadata": {},
   "outputs": [],
   "source": [
    "#code blcoks can contain many statements \n",
    "primes = [2,3,5]\n",
    "for p in primes:\n",
    "    squared = p** 2\n",
    "    cubed = p ** 3\n",
    "    print(p, squared, cubed)"
   ]
  },
  {
   "cell_type": "code",
   "execution_count": null,
   "id": "d54da0bb-ca36-49d8-ae21-ea31f8dba18f",
   "metadata": {},
   "outputs": [],
   "source": [
    "# create a new collection from an existing collection\n",
    "primes_squared = []\n",
    "for p in primes:\n",
    "    primes_squared.append(p ** 2)\n",
    "\n",
    "print(primes_squared)"
   ]
  },
  {
   "cell_type": "markdown",
   "id": "eae86f28-530c-417a-8065-162e428e2bc0",
   "metadata": {},
   "source": [
    "## Challenge\n",
    "get the total length of tall the items in the fruits list (i.e. total character count)"
   ]
  },
  {
   "cell_type": "code",
   "execution_count": null,
   "id": "056765d8-134f-4991-8371-ea1c12726e8d",
   "metadata": {},
   "outputs": [],
   "source": [
    "#Solution 1\n",
    "fruit_lengths = []\n",
    "for f in fruits:\n",
    "    fruit_lengths.append(len(f))\n",
    "\n",
    "print (fruit_lengths)\n",
    "print(sum(fruit_lengths))"
   ]
  },
  {
   "cell_type": "code",
   "execution_count": null,
   "id": "71217d87-934c-4ca6-8f04-2aa868d7da43",
   "metadata": {},
   "outputs": [],
   "source": [
    "#Solution 2\n",
    "count = 0\n",
    "for f in fruits: \n",
    "    count = count + len(f)\n",
    "    print(count)\n",
    "\n",
    "print (\"Final count\", count)"
   ]
  },
  {
   "cell_type": "code",
   "execution_count": null,
   "id": "3d17ca6d-f061-48cf-8eef-1e96346e16fd",
   "metadata": {},
   "outputs": [],
   "source": [
    "#Generator comprehension\n",
    "sum(len(f) for f in fruits)"
   ]
  },
  {
   "cell_type": "code",
   "execution_count": null,
   "id": "c03ee068-905b-4de5-9e23-ed9e129e69bf",
   "metadata": {},
   "outputs": [],
   "source": [
    "len(\"\".join(fruits))"
   ]
  },
  {
   "cell_type": "code",
   "execution_count": null,
   "id": "00672cea-243f-4936-8a2f-e4156d87a9af",
   "metadata": {},
   "outputs": [],
   "source": [
    "print(\"   \".join(fruits))"
   ]
  },
  {
   "cell_type": "code",
   "execution_count": null,
   "id": "258e8d02-95e9-4354-93c0-19af2bf53a52",
   "metadata": {},
   "outputs": [],
   "source": [
    "print(\"_\".join(fruits))"
   ]
  },
  {
   "cell_type": "code",
   "execution_count": null,
   "id": "4a7215ee-6484-44bc-b0f0-e392a231125e",
   "metadata": {},
   "outputs": [],
   "source": [
    "# Text join\n",
    "joined_fruits = ''.join(fruits)\n",
    "print(joined_fruits)\n",
    "print(len(joined_fruits))"
   ]
  },
  {
   "cell_type": "markdown",
   "id": "b883ed19-e34b-4d40-82bc-55d0025d09ae",
   "metadata": {},
   "source": [
    "# Linear Algebra with NumPy"
   ]
  },
  {
   "cell_type": "code",
   "execution_count": null,
   "id": "fd7e8729-98ce-4cb3-8ee8-76511793cadc",
   "metadata": {},
   "outputs": [],
   "source": [
    "# imports numpy as np so you dont need to write numpy everytime\n",
    "import numpy as np"
   ]
  },
  {
   "cell_type": "code",
   "execution_count": null,
   "id": "a5160699-c4ca-41da-98f6-0a025b0a763c",
   "metadata": {},
   "outputs": [],
   "source": [
    "# create an array of random numbers\n",
    "m_rand = np.random.rand(3,4)\n",
    "print(m_rand)"
   ]
  },
  {
   "cell_type": "code",
   "execution_count": null,
   "id": "de593f8b-8cc4-426f-866c-582d059b6ac0",
   "metadata": {},
   "outputs": [],
   "source": [
    "# index by row, column\n",
    "m_rand[0,0]"
   ]
  },
  {
   "cell_type": "code",
   "execution_count": null,
   "id": "72980936-e003-4e1e-84c5-d72b2a025435",
   "metadata": {},
   "outputs": [],
   "source": [
    "#this give the number in the array in row, column\n",
    "m_rand[0,1]"
   ]
  },
  {
   "cell_type": "code",
   "execution_count": null,
   "id": "f2422704-be9d-443d-ab57-86064abee9a6",
   "metadata": {},
   "outputs": [],
   "source": [
    "# arrays have attributes \n",
    "print(m_rand.shape)\n",
    "print(m_rand.size)\n",
    "print(m_rand.ndim)"
   ]
  },
  {
   "cell_type": "code",
   "execution_count": null,
   "id": "f37c4ae6-1dbe-4109-99da-00cdcdda5f0b",
   "metadata": {},
   "outputs": [],
   "source": [
    "#linear algebra\n",
    "#this creates a one dimensional array with numbers 0 thru 8\n",
    "x = np.arange(9)\n",
    "y = np.arange(9)\n",
    "\n",
    "print(x)\n",
    "print(y)"
   ]
  },
  {
   "cell_type": "code",
   "execution_count": null,
   "id": "71a75358-d72c-40cb-b760-98388915b16a",
   "metadata": {},
   "outputs": [],
   "source": [
    "# operations are element-wise by defult\n",
    "x * y"
   ]
  },
  {
   "cell_type": "code",
   "execution_count": null,
   "id": "a967a4a4-06d0-412e-8281-29a2f7c06213",
   "metadata": {},
   "outputs": [],
   "source": [
    "# matrix-wise operations if you like (sums of arrays multiplied element-wise by each other aka sum of the above)\n",
    "x @ y "
   ]
  },
  {
   "cell_type": "code",
   "execution_count": null,
   "id": "8f8c84ed-33b2-40b7-9bea-83b79905cb41",
   "metadata": {},
   "outputs": [],
   "source": [
    "# you can reshape arrays\n",
    "x1 = x.reshape(3,3)\n",
    "x2 = x.reshape(9,1)\n",
    "\n",
    "print(x)\n",
    "print(x1)\n",
    "print(x2)"
   ]
  },
  {
   "cell_type": "markdown",
   "id": "b461057d-2ca1-4c2d-b935-9d0a59fa7fae",
   "metadata": {},
   "source": [
    "## Challenge\n",
    "\n",
    "1. Create a 3 x 3 array containing the numbers 0-8\n",
    "2. Multiply the array by itself (elementwise)\n",
    "3. Multiply the array by its transpose\n",
    "4. Divide the array by itself"
   ]
  },
  {
   "cell_type": "code",
   "execution_count": null,
   "id": "71042e6d-b7ba-4486-9eaa-9ca0051c34e9",
   "metadata": {},
   "outputs": [],
   "source": [
    "#array = np.arange(9)\n",
    "#answer1 = array.reshape(3,3)\n",
    "#print(answer1)\n",
    "\n",
    "\n",
    "#answer2 = answer1 *answer1\n",
    "#print(answer2)\n",
    "\n",
    "\n",
    "#answer3 = answer1 @ answer1.T\n",
    "#print(answer3)\n",
    "\n",
    "#answer4 = answer1/answer1 \n",
    "#print(answer4)"
   ]
  },
  {
   "cell_type": "code",
   "execution_count": null,
   "id": "b2b29268-7a02-49e5-80eb-5a40449e46fc",
   "metadata": {},
   "outputs": [],
   "source": [
    "# Correct answer\n",
    "#x = np.arange(9)\n",
    "#x1 = x.reshape(3,3)\n",
    "#print(x1) \n",
    "#use method chaining to do more work on one line\n",
    "# missing info here\n",
    "\n",
    "#demo*demo \n",
    "\n",
    "#get transpose,method1\n",
    "#demo*demo.T\n",
    "\n",
    "\n",
    "#get tanspose,method2\n",
    "#demo*np.transpose(demo)\n",
    "\n",
    "#This will give you an error because you are dividing by zero\n",
    "#demo/ demo\n"
   ]
  },
  {
   "cell_type": "markdown",
   "id": "18c3cc00-007b-4254-84da-be7035590880",
   "metadata": {},
   "source": [
    "# Working with data in Pandas"
   ]
  },
  {
   "cell_type": "code",
   "execution_count": null,
   "id": "3862b986-a59a-4176-81f6-9c4888871765",
   "metadata": {},
   "outputs": [],
   "source": [
    "import pandas as pd"
   ]
  },
  {
   "cell_type": "code",
   "execution_count": null,
   "id": "db976ad3-9d29-420e-be4e-63ff424ab436",
   "metadata": {},
   "outputs": [],
   "source": [
    "data = pd.read_csv(\"gapminder_gdp_oceania.csv\", index_col=\"country\")"
   ]
  },
  {
   "cell_type": "code",
   "execution_count": null,
   "id": "09798161-4570-428c-a514-7621523343d5",
   "metadata": {},
   "outputs": [],
   "source": [
    "print(data)"
   ]
  },
  {
   "cell_type": "code",
   "execution_count": null,
   "id": "0ee87d9e-dd5f-49bb-a2be-2b5261d62459",
   "metadata": {},
   "outputs": [],
   "source": [
    "#Good advice about python\n",
    "import this"
   ]
  },
  {
   "cell_type": "code",
   "execution_count": null,
   "id": "89d4e44c-329d-4aef-86dd-cb1680c3614b",
   "metadata": {},
   "outputs": [],
   "source": [
    "data"
   ]
  },
  {
   "cell_type": "code",
   "execution_count": null,
   "id": "54d8f589-5019-4bb2-b650-eaae192ed26a",
   "metadata": {},
   "outputs": [],
   "source": [
    "#data frames have attributes\n",
    "print(data.index)\n",
    "print(data.columns)\n",
    "print(data.shape)"
   ]
  },
  {
   "cell_type": "code",
   "execution_count": null,
   "id": "09b006b2-fb96-4724-9306-ed25566668a8",
   "metadata": {},
   "outputs": [],
   "source": [
    "#data frames can tell you about their contents\n",
    "data.info()"
   ]
  },
  {
   "cell_type": "code",
   "execution_count": null,
   "id": "ec2bf733-819a-4a03-b1ba-d8a85c9c2651",
   "metadata": {},
   "outputs": [],
   "source": [
    "# get descriptive statistics\n",
    "data.describe()"
   ]
  },
  {
   "cell_type": "code",
   "execution_count": null,
   "id": "bfc347cd-c736-44f3-a780-75ab4d090c8b",
   "metadata": {},
   "outputs": [],
   "source": [
    "# get the first N rows \n",
    "data.head(1)"
   ]
  },
  {
   "cell_type": "code",
   "execution_count": null,
   "id": "1b9fb591-7d29-47a5-8665-aaf5f4b916d1",
   "metadata": {},
   "outputs": [],
   "source": [
    "#help(data.describe)"
   ]
  },
  {
   "cell_type": "code",
   "execution_count": null,
   "id": "55442fd6-04a8-4826-9e28-1059cc62f5c8",
   "metadata": {},
   "outputs": [],
   "source": [
    "data.T.describe()"
   ]
  },
  {
   "cell_type": "markdown",
   "id": "a6b8f03a-6d57-4ce3-9601-4d66cb961760",
   "metadata": {},
   "source": [
    "# Subsetting Data"
   ]
  },
  {
   "cell_type": "code",
   "execution_count": null,
   "id": "08f2077f-f902-4bc6-bf8a-72f5b4dc8ecf",
   "metadata": {},
   "outputs": [],
   "source": [
    "data = pd.read_csv(\"gapminder_gdp_europe.csv\", index_col = \"country\")"
   ]
  },
  {
   "cell_type": "code",
   "execution_count": null,
   "id": "3189370b-8fdc-4282-9bad-3c451c47399d",
   "metadata": {},
   "outputs": [],
   "source": [
    "#if you had a sub directory/ folder with your data in it \n",
    "#data = pd.read_csv(\"data/gapminder_gdp_europe.csv\", index_col = \"country\")"
   ]
  },
  {
   "cell_type": "code",
   "execution_count": null,
   "id": "fa9c0d94-d3be-4445-9e7f-fa657c2b0ce3",
   "metadata": {},
   "outputs": [],
   "source": [
    "data.head(3)"
   ]
  },
  {
   "cell_type": "code",
   "execution_count": null,
   "id": "a5834f0e-e6e2-4389-91f7-ca94fb3db219",
   "metadata": {},
   "outputs": [],
   "source": [
    "#to find the gdp of alabania in 1952, using index location\n",
    "data.iloc[0,0]"
   ]
  },
  {
   "cell_type": "code",
   "execution_count": null,
   "id": "3900695f-92a9-4988-8d02-fb4d450f9a89",
   "metadata": {},
   "outputs": [],
   "source": [
    "#get item by label\n",
    "data.loc[\"Albania\",\"gdpPercap_1952\"]"
   ]
  },
  {
   "cell_type": "markdown",
   "id": "92377ee2-dc16-44da-a98c-cb6c82fc620e",
   "metadata": {},
   "source": [
    "# A brief digression on string methods"
   ]
  },
  {
   "cell_type": "code",
   "execution_count": null,
   "id": "ec2d1953-c86d-4f4e-bea3-4c315a6c8883",
   "metadata": {},
   "outputs": [],
   "source": [
    "# Standard has string methods\n",
    "big_hello = \"hello\".title()\n",
    "print(big_hello)"
   ]
  },
  {
   "cell_type": "code",
   "execution_count": null,
   "id": "38a4d5fa-ff0a-4909-a840-5b4223686270",
   "metadata": {},
   "outputs": [],
   "source": [
    "help(\"hello\".title)"
   ]
  },
  {
   "cell_type": "code",
   "execution_count": null,
   "id": "a85ee2ac-b20e-4484-ab3a-997e052fb745",
   "metadata": {},
   "outputs": [],
   "source": [
    "# what methods are availiable?\n",
    "print(dir(\"hello\"))"
   ]
  },
  {
   "cell_type": "code",
   "execution_count": null,
   "id": "6a86cdb7-06be-4f62-8775-4cd10cd483a5",
   "metadata": {},
   "outputs": [],
   "source": [
    "print(data.columns)"
   ]
  },
  {
   "cell_type": "code",
   "execution_count": null,
   "id": "4848534b-a28d-424f-9610-dbd0784a1eea",
   "metadata": {},
   "outputs": [],
   "source": [
    "print(dir(data.columns.str))"
   ]
  },
  {
   "cell_type": "code",
   "execution_count": null,
   "id": "dc98116b-1bbb-43e8-853e-93c1a3f7c1fd",
   "metadata": {},
   "outputs": [],
   "source": [
    "#rewrite column headers to strip off leading text\n",
    "data.columns = data.columns.str.strip(\"gdpPercap_\")\n",
    "print(data.columns)"
   ]
  },
  {
   "cell_type": "code",
   "execution_count": null,
   "id": "c892c328-5ab4-4b7e-86ba-1b5338dcaece",
   "metadata": {},
   "outputs": [],
   "source": [
    "data.loc[\"Albania\",\"1952\"]"
   ]
  },
  {
   "cell_type": "code",
   "execution_count": null,
   "id": "12427c29-9590-4714-8bef-9262469ee54a",
   "metadata": {},
   "outputs": [],
   "source": [
    "subset = data.loc[\"Italy\":\"Poland\",\"1962\":\"1972\"]\n",
    "subset"
   ]
  },
  {
   "cell_type": "code",
   "execution_count": null,
   "id": "925cb08e-08eb-4663-87c2-dc08dd0f966b",
   "metadata": {},
   "outputs": [],
   "source": [
    "# get all of the variables for a subset of rows\n",
    "data.loc[\"Italy\":\"Poland\", : ]"
   ]
  },
  {
   "cell_type": "code",
   "execution_count": null,
   "id": "71d9de17-7261-4594-89f5-b099c98292f5",
   "metadata": {},
   "outputs": [],
   "source": [
    "subset.describe()"
   ]
  },
  {
   "cell_type": "code",
   "execution_count": null,
   "id": "c23f020c-3b6e-43d6-9057-92e63200bd1f",
   "metadata": {},
   "outputs": [],
   "source": [
    "subset.max()"
   ]
  },
  {
   "cell_type": "markdown",
   "id": "44d9205b-0b2f-44d1-895f-e0d1f84702de",
   "metadata": {},
   "source": [
    "## Challenge\n",
    "1. Calculate subset.max() and assign the results to a variable. What kind of thing is it?\n",
    "3. What is the maximum value of the new thing?\n",
    "4. Can you calculate the overall max value of the new thing in 1 step?"
   ]
  },
  {
   "cell_type": "code",
   "execution_count": null,
   "id": "009747ec-fd0d-4c35-a677-f6ae3ad35f85",
   "metadata": {},
   "outputs": [],
   "source": [
    "subset_max = subset.max()\n",
    "subset_max"
   ]
  },
  {
   "cell_type": "code",
   "execution_count": null,
   "id": "7fec9e68-698a-4cd0-b177-3d379b8eb31e",
   "metadata": {},
   "outputs": [],
   "source": [
    "print(type(subset))\n",
    "print(type(subset_max))"
   ]
  },
  {
   "cell_type": "code",
   "execution_count": null,
   "id": "876d31e2-1f38-4d8a-800c-5f0dfc739049",
   "metadata": {},
   "outputs": [],
   "source": [
    "subset_max.max()"
   ]
  },
  {
   "cell_type": "code",
   "execution_count": null,
   "id": "52dd8d44-992b-4d2e-a096-38aaa27a3871",
   "metadata": {},
   "outputs": [],
   "source": [
    "#Solution 1\n",
    "subset.max().max()"
   ]
  },
  {
   "cell_type": "code",
   "execution_count": null,
   "id": "11ec93f4-b400-4534-bf9f-f54a935c85c7",
   "metadata": {},
   "outputs": [],
   "source": [
    "#solution\n",
    "print(\"Default max\")\n",
    "print(subset.max())\n",
    "print(\"Max along axis 0\")\n",
    "print(subset.max(axis = 0))\n",
    "print(\"Max along axis 1\")\n",
    "print(subset.max(axis = 1))"
   ]
  },
  {
   "cell_type": "code",
   "execution_count": null,
   "id": "f775970d-82c3-4afb-a063-c68866802fbe",
   "metadata": {},
   "outputs": [],
   "source": [
    "# Get max dor overall data frame\n",
    "subset.max(axis = None)"
   ]
  },
  {
   "cell_type": "markdown",
   "id": "7f0fdabc-9be0-4aec-96fb-221e8131fb01",
   "metadata": {},
   "source": [
    "# Filter data by criterion"
   ]
  },
  {
   "cell_type": "code",
   "execution_count": null,
   "id": "218d49c0-f1d7-4f19-8db0-2406f556ca40",
   "metadata": {},
   "outputs": [],
   "source": [
    "subset"
   ]
  },
  {
   "cell_type": "code",
   "execution_count": null,
   "id": "5d5e183f-107c-41d6-a52c-ca13e67bc054",
   "metadata": {},
   "outputs": [],
   "source": [
    "#get GDPs greater than 10,000\n",
    "subset > 10000"
   ]
  },
  {
   "cell_type": "code",
   "execution_count": null,
   "id": "6ed404bf-e533-434a-a011-6dc86b363a4b",
   "metadata": {},
   "outputs": [],
   "source": [
    "# filter the data frame by the criterion\n",
    "df = subset[subset >  10000]\n",
    "df"
   ]
  },
  {
   "cell_type": "code",
   "execution_count": null,
   "id": "a0abd87e-5d32-4e0b-a30d-668f075d99e0",
   "metadata": {},
   "outputs": [],
   "source": [
    "# Get everything above the median \n",
    "subset[subset > subset.median(axis = None)]"
   ]
  },
  {
   "cell_type": "code",
   "execution_count": null,
   "id": "399f3f2f-6e43-4bc1-aa5c-ea9cec08d111",
   "metadata": {},
   "outputs": [],
   "source": [
    "df"
   ]
  },
  {
   "cell_type": "markdown",
   "id": "c5878c6e-128e-422f-a271-c004981292af",
   "metadata": {},
   "source": [
    "# Working with missing data"
   ]
  },
  {
   "cell_type": "code",
   "execution_count": null,
   "id": "747d8a93-b08d-4000-b90b-871cd4109898",
   "metadata": {},
   "outputs": [],
   "source": [
    "#Missing data is ignored by default\n",
    "print(\"Column means\")\n",
    "print(df.mean())\n",
    "\n",
    "print(\"Row means\")\n",
    "print(df.mean(axis = 1))"
   ]
  },
  {
   "cell_type": "code",
   "execution_count": null,
   "id": "79574416-f1d4-4a27-8af4-5cf59f69811e",
   "metadata": {},
   "outputs": [],
   "source": [
    "# check for missing values \n",
    "df.isna()"
   ]
  },
  {
   "cell_type": "code",
   "execution_count": null,
   "id": "fd49737e-7b8c-45ac-ace8-216b12087663",
   "metadata": {},
   "outputs": [],
   "source": [
    "#Count our missing values\n",
    "#Missing by row\n",
    "df.isna().sum()"
   ]
  },
  {
   "cell_type": "code",
   "execution_count": null,
   "id": "f0c181a5-5725-4bba-81e9-800803498486",
   "metadata": {},
   "outputs": [],
   "source": [
    "#Check all of the missing values\n",
    "df.isna().sum().sum()"
   ]
  },
  {
   "cell_type": "code",
   "execution_count": null,
   "id": "798e07fa-f5e9-4984-903d-59d7641863d2",
   "metadata": {},
   "outputs": [],
   "source": [
    "df"
   ]
  },
  {
   "cell_type": "code",
   "execution_count": null,
   "id": "a21d5c1b-f3d7-4d4b-8ef0-2c8c7eab6307",
   "metadata": {},
   "outputs": [],
   "source": [
    "#Drop missing values\n",
    "df.dropna()"
   ]
  },
  {
   "cell_type": "code",
   "execution_count": null,
   "id": "852871f6-2b09-4104-a374-afd053cb68d7",
   "metadata": {},
   "outputs": [],
   "source": [
    "#Replace missing values with a fixed value\n",
    "df_fixed = df.fillna(99)\n",
    "print(df_fixed)"
   ]
  },
  {
   "cell_type": "code",
   "execution_count": null,
   "id": "877fe553-c4e8-4bf2-951b-46af58d5ead9",
   "metadata": {},
   "outputs": [],
   "source": [
    "# Replace missing values with interpolated data\n",
    "df_interpolated = df.interpolate()\n",
    "print(df_interpolated)"
   ]
  },
  {
   "cell_type": "markdown",
   "id": "6705b554-d9e6-4747-ab2d-0768b639c0a5",
   "metadata": {},
   "source": [
    "## Hard Challenge: The perils of missing data\n",
    "1. create an array of random numbers matching the \"data\" dataframe\n",
    "   \n",
    "random_filter = np.random.rand(30,12) * data.max(axis = None)\n",
    "\n",
    "OR (... for olfer version of pandas)\n",
    "\n",
    "random_filter = np.random.rand(30,12) * 49000\n",
    "\n",
    "2. Create a new data frame that filters out all values lower than the random numbers\n",
    "3. Interpolate new values for the missing data in the new data frame. How accurate are they?"
   ]
  },
  {
   "cell_type": "code",
   "execution_count": null,
   "id": "7c2df5c4-a7d3-4c7f-ab53-5703f9eb5aa6",
   "metadata": {},
   "outputs": [],
   "source": [
    "random_filter = np.random.rand(30,12) * data.max(axis = None)\n",
    "#random_filter\n",
    "\n",
    "new_data = data[data> random_filter]\n",
    "new_data"
   ]
  },
  {
   "cell_type": "code",
   "execution_count": null,
   "id": "966f737a-612a-43e3-b7c4-9e689df362ba",
   "metadata": {},
   "outputs": [],
   "source": [
    "new_data_interpolated = new_data.interpolate()"
   ]
  },
  {
   "cell_type": "code",
   "execution_count": null,
   "id": "6e7403b5-42e8-4dee-86cd-8d4e0266c945",
   "metadata": {},
   "outputs": [],
   "source": [
    "new_data_interpolated"
   ]
  },
  {
   "cell_type": "code",
   "execution_count": null,
   "id": "8034b4f7-73e3-418a-8237-a5431614278d",
   "metadata": {},
   "outputs": [],
   "source": [
    "data.describe()"
   ]
  },
  {
   "cell_type": "code",
   "execution_count": null,
   "id": "74745dfa-d408-4599-938f-9bb025781188",
   "metadata": {},
   "outputs": [],
   "source": [
    "new_data_interpolated.describe()"
   ]
  },
  {
   "cell_type": "markdown",
   "id": "847f2dd5-fcd8-4e0f-9178-e6d6e20b1275",
   "metadata": {},
   "source": [
    "# Sorting and Grouping"
   ]
  },
  {
   "cell_type": "code",
   "execution_count": null,
   "id": "d4149627-7d8a-4d6c-a82f-e624802695e5",
   "metadata": {},
   "outputs": [],
   "source": [
    "# Z score all of the gdp data points\n",
    "z = (data - data.mean(axis = None))/data.values.std(ddof=1)"
   ]
  },
  {
   "cell_type": "code",
   "execution_count": null,
   "id": "f3e8d854-f1f1-4ad5-bcff-fb72695936ad",
   "metadata": {},
   "outputs": [],
   "source": [
    "z"
   ]
  },
  {
   "cell_type": "code",
   "execution_count": null,
   "id": "b8b94d6d-13d8-4908-901d-b7b33f2863d1",
   "metadata": {},
   "outputs": [],
   "source": [
    "# get mean z score for each country\n",
    "mean_z = z.mean(axis=1)\n",
    "mean_z"
   ]
  },
  {
   "cell_type": "code",
   "execution_count": null,
   "id": "0c218c9e-34aa-4548-a06a-29b695481dc0",
   "metadata": {},
   "outputs": [],
   "source": [
    "mean_z.sort_values()"
   ]
  },
  {
   "cell_type": "code",
   "execution_count": null,
   "id": "dada3be4-9483-4338-8fbc-cb57ec313441",
   "metadata": {},
   "outputs": [],
   "source": [
    "bool_z = mean_z > 0\n",
    "bool_z"
   ]
  },
  {
   "cell_type": "code",
   "execution_count": null,
   "id": "02391e7c-5242-4a62-a1e3-7216c359959f",
   "metadata": {},
   "outputs": [],
   "source": [
    "# add new columns to data frame\n",
    "data[\"mean_z\"] = mean_z\n",
    "data[\"wealthy\"] = bool_z"
   ]
  },
  {
   "cell_type": "code",
   "execution_count": null,
   "id": "e2efa6d9-931c-4492-8bdd-bd6aa542f161",
   "metadata": {},
   "outputs": [],
   "source": [
    "data.head(3)"
   ]
  },
  {
   "cell_type": "code",
   "execution_count": null,
   "id": "b07c6f6c-6c00-4834-81f4-ab09373e13c1",
   "metadata": {},
   "outputs": [],
   "source": [
    "#get descriptive statistics for groups\n",
    "data.groupby(\"wealthy\").mean()"
   ]
  },
  {
   "cell_type": "code",
   "execution_count": null,
   "id": "6010804d-1e41-42d5-bada-1dd0f5796fd8",
   "metadata": {},
   "outputs": [],
   "source": [
    "# get descriptive statistics for each group\n",
    "data.groupby(\"wealthy\").describe()"
   ]
  },
  {
   "cell_type": "code",
   "execution_count": null,
   "id": "3911648e-475f-406b-9cf0-f31479a180e6",
   "metadata": {},
   "outputs": [],
   "source": [
    "# Write output (new csv file so you dont override your prev file)\n",
    "data.to_csv(\"europe_normed.csv\")"
   ]
  },
  {
   "cell_type": "markdown",
   "id": "a494b666-0a7e-485d-ba0e-0132ff81b75d",
   "metadata": {},
   "source": [
    "# Looping over data sets"
   ]
  },
  {
   "cell_type": "code",
   "execution_count": null,
   "id": "41ecac8a-1c83-42e6-b189-6b332ea0e121",
   "metadata": {},
   "outputs": [],
   "source": [
    "import pandas as pd"
   ]
  },
  {
   "cell_type": "code",
   "execution_count": null,
   "id": "30a44d81-7ecb-485f-b506-b75bb5819a66",
   "metadata": {},
   "outputs": [],
   "source": [
    "# Import the data from files in a list\n",
    "file_list = [\"gapminder_gdp_africa.csv\", \"gapminder_gdp_asia.csv\"]\n",
    "\n",
    "for filename in file_list:\n",
    "    data = pd.read_csv(filename, index_col = \"country\")\n",
    "    print(filename)\n",
    "    print(data.head(1))"
   ]
  },
  {
   "cell_type": "code",
   "execution_count": null,
   "id": "06a307ae-2f7c-41a8-97fc-f6b7abb4e0da",
   "metadata": {},
   "outputs": [],
   "source": [
    "# Automatically get a list of files\n",
    "#glob is a library for pattern matching\n",
    "import glob"
   ]
  },
  {
   "cell_type": "code",
   "execution_count": null,
   "id": "354fc232-c272-4545-9749-9e5aa77e178e",
   "metadata": {},
   "outputs": [],
   "source": [
    "#get all the csv files\n",
    "glob.glob(\"*.csv\")"
   ]
  },
  {
   "cell_type": "code",
   "execution_count": null,
   "id": "f7187eff-75bf-471b-a106-9abd04437e75",
   "metadata": {},
   "outputs": [],
   "source": [
    "# Get all the csv or tsv files\n",
    "glob.glob(\"*.?sv\")"
   ]
  },
  {
   "cell_type": "code",
   "execution_count": null,
   "id": "dcd78219-3b61-49d4-bdff-3b7478e0f4d2",
   "metadata": {},
   "outputs": [],
   "source": [
    "# Get a lost of all the continents\n",
    "glob.glob(\"gapminder_gdp_*.csv\")"
   ]
  },
  {
   "cell_type": "code",
   "execution_count": null,
   "id": "58bd46c8-0d6f-422d-b474-39ea4a7390c3",
   "metadata": {},
   "outputs": [],
   "source": [
    "# Get continent- level data and aggregate into 1 data frame\n",
    "data_frames = []\n",
    "\n",
    "for filename in glob.glob(\"gapminder_gdp_*.csv\"):\n",
    "    print(filename)\n",
    "    data = pd.read_csv(filename, index_col = \"country\")\n",
    "    data_frames.append(data)\n",
    "\n",
    "\n",
    "# concatenate data frames\n",
    "all_data = pd.concat(data_frames)"
   ]
  },
  {
   "cell_type": "code",
   "execution_count": null,
   "id": "2b963f05-e1a5-4cb6-bcc2-ebab7d5dc6ff",
   "metadata": {},
   "outputs": [],
   "source": [
    "# Inspect our results\n",
    "print(all_data.shape)\n",
    "print(all_data.index)"
   ]
  },
  {
   "cell_type": "code",
   "execution_count": null,
   "id": "09005e01-c04b-4a5e-b1c2-b0100154c60d",
   "metadata": {},
   "outputs": [],
   "source": [
    "#if you dont use a print statement the only thing that gets echoed is the last statement\n",
    "#if wanting to show multiple statements use print\n",
    "all_data.shape\n",
    "all_data.index"
   ]
  },
  {
   "cell_type": "code",
   "execution_count": null,
   "id": "162e1ef1-ea0a-42f8-a4eb-9ee19f9ae9ce",
   "metadata": {},
   "outputs": [],
   "source": [
    "all_data.shape"
   ]
  },
  {
   "cell_type": "markdown",
   "id": "c283cbf0-45b2-4062-85b9-48f3199dcb3d",
   "metadata": {},
   "source": [
    "# Conditionals"
   ]
  },
  {
   "cell_type": "code",
   "execution_count": null,
   "id": "69d9f702-3824-48ab-adab-7292d2163a6f",
   "metadata": {},
   "outputs": [],
   "source": [
    "# does a file end in \"all.csv\"?\n",
    "for filename in glob.glob(\"gapminder*.csv\"):\n",
    "    print(\"Current file: \", filename)\n",
    "    print(filename.endswith(\"all.csv\"))"
   ]
  },
  {
   "cell_type": "code",
   "execution_count": null,
   "id": "5b11b0b0-912c-406f-94cc-2975a1feabad",
   "metadata": {},
   "outputs": [],
   "source": [
    "# get truth value of a statement\n",
    "mass = 3\n",
    "\n",
    "# double == is testing for a value, = is making something\n",
    "print(mass == 3)\n",
    "print(mass > 5)\n",
    "print(mass < 4)"
   ]
  },
  {
   "cell_type": "code",
   "execution_count": null,
   "id": "e9e4b048-fa1a-495b-b0ad-1dd4252d43f1",
   "metadata": {},
   "outputs": [],
   "source": [
    "#test for membership in a collection\n",
    "primes = [2, 3, 5]\n",
    "\n",
    "#this will check if 2 or 7 is in the list of primes\n",
    "print(2 in primes)\n",
    "\n",
    "print(7 in primes)\n"
   ]
  },
  {
   "cell_type": "code",
   "execution_count": null,
   "id": "9b19e639-fd4f-427b-8fb1-89fc38fb4c54",
   "metadata": {},
   "outputs": [],
   "source": [
    "# testing for missing values\n",
    "#if i was restating the notebook: \n",
    "#data = pd.read_csv(\"europe_normed.csv\", index_col = \"country\")\n",
    "#subset = data.loc [\"Italy\":\"Poland\", \"1962\":\"1972\"]\n",
    "# df = subset[subset >10000]\n",
    "df"
   ]
  },
  {
   "cell_type": "code",
   "execution_count": null,
   "id": "c81a2f9a-be00-4267-b6f4-bc238663a7cb",
   "metadata": {},
   "outputs": [],
   "source": [
    "#which values are missing? \n",
    "#evalutes the entire data frame, gives true/false\n",
    "df.isna()\n"
   ]
  },
  {
   "cell_type": "code",
   "execution_count": null,
   "id": "03be873e-34bf-43bf-b6b9-ddcbb7cc6fd1",
   "metadata": {},
   "outputs": [],
   "source": [
    "#are any values missing?\n",
    "df.isna().any(axis = None)"
   ]
  },
  {
   "cell_type": "code",
   "execution_count": null,
   "id": "f3b40ad9-6d47-4e28-9fbb-24d847c0af4c",
   "metadata": {},
   "outputs": [],
   "source": [
    "# make choices with if - then statements\n",
    "mass = 2.0\n",
    "\n",
    "if mass > 3.0:\n",
    "    print(mass, \"is large\")"
   ]
  },
  {
   "cell_type": "code",
   "execution_count": null,
   "id": "8695a036-0772-4ffd-b73e-f4d62d8310dd",
   "metadata": {},
   "outputs": [],
   "source": [
    "#Test for files ending in \"all.csv\"\n",
    "data_frames = []\n",
    "\n",
    "for filename in glob.glob(\"gapminder*.csv\"):\n",
    "    print(filename)\n",
    "    if not filename.endswith(\"all.csv\"):\n",
    "        print(\"Passes test:\", filename)\n",
    "        data = pd.read_csv(filename, index_col = \"country\")\n",
    "        data_frames.append(data)\n",
    "\n",
    "all_data  = pd.concat(data_frames)\n",
    "print(all_data.shape)"
   ]
  },
  {
   "cell_type": "code",
   "execution_count": null,
   "id": "cd71d5c4-5922-4de2-9e4c-5dc585cbfd5b",
   "metadata": {},
   "outputs": [],
   "source": [
    "# add an else condition\n",
    "mass = 3.5\n",
    "\n",
    "if mass > 3.0:\n",
    "    print(mass, \"is large\")\n",
    "else: \n",
    "    print(mass, \"is small\")"
   ]
  },
  {
   "cell_type": "code",
   "execution_count": null,
   "id": "011f9703-95d6-4555-acbf-5470cd3107c6",
   "metadata": {},
   "outputs": [],
   "source": [
    "data_frames = []\n",
    "\n",
    "for filename in glob.glob(\"gapminder*.csv\"):\n",
    "    if filename.endswith(\"all.csv\"):\n",
    "        print(\"i dont want any of that\")\n",
    "    else: \n",
    "        print(\"Passes test:\", filename)\n",
    "        data = pd.read_csv(filename, index_col = \"country\")\n",
    "        data_frames.append(data)\n",
    "\n",
    "all_data  = pd.concat(data_frames)\n",
    "print(all_data.shape)"
   ]
  },
  {
   "cell_type": "markdown",
   "id": "b065b506-d0a9-466f-b972-8aeaa2b4deb2",
   "metadata": {},
   "source": [
    "## Challenge 1\n",
    "1. Iterate through all the csv files in the directory\n",
    "2. Print the name and length(number of rows) of any file less than 30 rows long"
   ]
  },
  {
   "cell_type": "code",
   "execution_count": null,
   "id": "943f57b3-0593-4782-9a1e-5a561922bc75",
   "metadata": {},
   "outputs": [],
   "source": [
    "#iterates thru csv files\n",
    "for filename in glob.glob(\"*.csv\"):\n",
    "    data = pd.read_csv(filename) #reads in the files\n",
    "    if data.shape[0] <30: # checks shape perameter is less than 30\n",
    "        print(filename,data.shape[0])"
   ]
  },
  {
   "cell_type": "markdown",
   "id": "18566fc3-d0ff-4285-9718-438b4f2712dc",
   "metadata": {},
   "source": [
    "## Challenge 2\n",
    "1. Iterate through all the csv files in the directory\n",
    "2. Print any file name that includes \"europe\", then print the column names for that file."
   ]
  },
  {
   "cell_type": "code",
   "execution_count": null,
   "id": "2b2c73f3-af82-4371-be6d-1d4974944e33",
   "metadata": {},
   "outputs": [],
   "source": [
    "#iterates thru the filenames\n",
    "for filename in glob.glob(\"*.csv\"):\n",
    "    #'filenames' is a string, strings are kind of like lists\n",
    "    if \"europe\" in filename.lower(): \n",
    "    #.lower is going to change all file names to lowercase so you can look at all files including uppercase \n",
    "        print(filename)\n",
    "        data = pd.read_csv(filename) # reads it in\n",
    "        print(data.columns)"
   ]
  },
  {
   "cell_type": "code",
   "execution_count": null,
   "id": "8fc05f37-9246-471f-9153-ef394ec04fa5",
   "metadata": {},
   "outputs": [],
   "source": [
    "# you can specify additional tests with elif (else if)\n",
    "mass = 2\n",
    "\n",
    "if mass> 9.0:\n",
    "    print(mass, \"is huge\")\n",
    "elif mass> 3.0:\n",
    "    print(mass, \"is large\")\n",
    "else:\n",
    "    print(mass,\"is small\")"
   ]
  },
  {
   "cell_type": "code",
   "execution_count": null,
   "id": "6744beed-e090-41b9-8105-f7527ad15c13",
   "metadata": {},
   "outputs": [],
   "source": [
    "# you can do more complicated test\n",
    "mass = [1,2,3,4,5]\n",
    "velocity = [5,4,3,2,5]\n",
    "\n",
    "#get each pair of measurements\n",
    "#takes the list and makes an embedded list of the 2 lists \n",
    "#(values correspond to each other in order)\n",
    "for m, v in zip(mass,velocity):\n",
    "    if m <= 3 and v<= 3:\n",
    "        print(\"small and slow\")\n",
    "    elif m <= 3 and v > 3: \n",
    "        print(\"small and fast\")\n",
    "    elif m > 3 and v <= 3:\n",
    "        print(\"large and slow\")\n",
    "    else:\n",
    "        print(\"check data\")"
   ]
  },
  {
   "cell_type": "markdown",
   "id": "7645c905-8e3f-49f9-b9bf-e0f42d8707de",
   "metadata": {},
   "source": [
    "# Functions"
   ]
  },
  {
   "cell_type": "code",
   "execution_count": null,
   "id": "47e31932-7b29-47c6-a53a-ff7b3849b8b4",
   "metadata": {},
   "outputs": [],
   "source": [
    "#def is a definiton , ur making a function, and defining what is does\n",
    "def print_greeting():\n",
    "    print(\"Hello!\")"
   ]
  },
  {
   "cell_type": "code",
   "execution_count": null,
   "id": "f3c25107-84d1-4cfb-b7ed-47527064ea4a",
   "metadata": {},
   "outputs": [],
   "source": [
    "print_greeting()"
   ]
  },
  {
   "cell_type": "code",
   "execution_count": null,
   "id": "36082ed4-81e5-4098-b94a-101a3583fe79",
   "metadata": {},
   "outputs": [],
   "source": [
    "# Functions take argument\n",
    "#taking the 3 items you need to feed the function\n",
    "def print_date(year, month, day):\n",
    "    #joined_date = \"/\".join([year, month, day]) \n",
    "    #JOIN only works on strings\n",
    "    #str converts them into strings\n",
    "    joined_date = \"/\".join([str(year), str(month), str(day)])\n",
    "    print(joined_date)"
   ]
  },
  {
   "cell_type": "code",
   "execution_count": null,
   "id": "75b4c8d6-7226-4b87-80b9-1e94e3347bbb",
   "metadata": {},
   "outputs": [],
   "source": [
    "#print_date(\"1872\", \"3\", \"9\")\n",
    "print_date(1872,3,9)"
   ]
  },
  {
   "cell_type": "code",
   "execution_count": null,
   "id": "a528e433-638b-4002-ac49-af25cfa3679e",
   "metadata": {},
   "outputs": [],
   "source": [
    "#test your data inside your function\n",
    "def average (values):\n",
    "    #triple quotes is...\n",
    "    \"\"\"Return average of values, or None if no values are supplied\"\"\"\n",
    "\n",
    "    if len(values) == 0:\n",
    "        return None\n",
    "    else:\n",
    "        return sum(values) / len(values)"
   ]
  },
  {
   "cell_type": "code",
   "execution_count": null,
   "id": "f094519f-8d9f-4112-bf35-d8582e8aab1b",
   "metadata": {},
   "outputs": [],
   "source": [
    "a1 = average([1,2,3])\n",
    "print(a1)"
   ]
  },
  {
   "cell_type": "code",
   "execution_count": null,
   "id": "45d7a726-853f-4ebe-ac52-486519f354b7",
   "metadata": {},
   "outputs": [],
   "source": [
    "a2 = average([])\n",
    "print(a2)"
   ]
  },
  {
   "cell_type": "code",
   "execution_count": null,
   "id": "3b57e969-f67b-4ee9-9aa7-cdbca2438052",
   "metadata": {},
   "outputs": [],
   "source": [
    "#this case wasnt defined in our code so it gives an error\n",
    "#a3 = average(3)\n",
    "#print(a3)"
   ]
  },
  {
   "cell_type": "markdown",
   "id": "0ef184f9-755a-43bf-8ed8-b34704611bdc",
   "metadata": {},
   "source": [
    "## Challenge\n",
    "\n",
    "Write a function that encapsulates the z-score calculation. your function should do the following: \n",
    "1. Read a csv file into a dataframe\n",
    "2. Calculate the z-score for each item\n",
    "3. Calculate the mean z-score for each country\n",
    "4. Append the new z-score as a new column\n",
    "5. Return the data frame"
   ]
  },
  {
   "cell_type": "code",
   "execution_count": null,
   "id": "cf80990d-21e7-4149-a13a-9c7e09f57255",
   "metadata": {},
   "outputs": [],
   "source": [
    "#get your version of pandas\n",
    "pd.__version__"
   ]
  },
  {
   "cell_type": "code",
   "execution_count": null,
   "id": "2d007389-12af-407c-9e6a-11bcb63dc6a8",
   "metadata": {},
   "outputs": [],
   "source": [
    "#Calculate overall mean and std with NumPy (if stuggling with using mean in pandas)\n",
    "#overall_mean = data.values.mean()\n",
    "#overall_std = data.values.std()"
   ]
  },
  {
   "cell_type": "code",
   "execution_count": null,
   "id": "db00d0ee-2bf7-457e-9c11-74d21122815a",
   "metadata": {},
   "outputs": [],
   "source": [
    "def norm_data(filename, index_col = None):\n",
    "    \"\"\"Add a Z score to a data frame.\"\"\" #tells what it does\n",
    "\n",
    "    #Import the data\n",
    "    data = pd.read_csv(filename, index_col = index_col)\n",
    "\n",
    "    #Drop contient column if necessary. This returns a new data frame.\n",
    "    if \"continent\" in data.columns:\n",
    "        #data = data.drop(\"contient\", axis=1)\n",
    "        data = data.iloc[:, 1:]\n",
    "\n",
    "    #Calculte individual z scores\n",
    "    z = (data - data.values.mean()) / data.values.std()\n",
    "\n",
    "    #Mean Z score for each country\n",
    "    mean_z = z.mean(axis = 1)\n",
    "\n",
    "    #Add new column to dataframe\n",
    "    data[\"mean_z\"] = mean_z\n",
    "\n",
    "    return data"
   ]
  },
  {
   "cell_type": "code",
   "execution_count": null,
   "id": "febcd31d-bc7e-4cec-8afd-68cbcc3bfd81",
   "metadata": {},
   "outputs": [],
   "source": [
    "df = norm_data(\"gapminder_gdp_americas.csv\", index_col = \"country\")\n",
    "print(df.columns)"
   ]
  },
  {
   "cell_type": "markdown",
   "id": "0e478426-0bc8-42c9-8404-6e008511d64b",
   "metadata": {},
   "source": [
    "# Putting it all Together"
   ]
  },
  {
   "cell_type": "code",
   "execution_count": null,
   "id": "bbe63669-f06e-4d14-9792-fe291b2d9c25",
   "metadata": {},
   "outputs": [],
   "source": [
    "# getting all the files we care about and get Z scores by contient\n",
    "data_frames = []\n",
    "\n",
    "for filename in glob.glob(\"gapminder*.csv\"):\n",
    "    if not filename.endswith(\"all.csv\"):\n",
    "        df = norm_data(filename, index_col = \"country\")\n",
    "        data_frames.append(df)\n",
    "\n",
    "all_data = pd.concat(data_frames)\n",
    "\n",
    "print(all_data.shape)\n",
    "print(all_data.columns)"
   ]
  },
  {
   "cell_type": "code",
   "execution_count": null,
   "id": "6ebf7ebe-1d2c-442c-865c-7a578a76b385",
   "metadata": {},
   "outputs": [],
   "source": []
  }
 ],
 "metadata": {
  "kernelspec": {
   "display_name": "Python 3 (ipykernel)",
   "language": "python",
   "name": "python3"
  },
  "language_info": {
   "codemirror_mode": {
    "name": "ipython",
    "version": 3
   },
   "file_extension": ".py",
   "mimetype": "text/x-python",
   "name": "python",
   "nbconvert_exporter": "python",
   "pygments_lexer": "ipython3",
   "version": "3.12.4"
  }
 },
 "nbformat": 4,
 "nbformat_minor": 5
}
